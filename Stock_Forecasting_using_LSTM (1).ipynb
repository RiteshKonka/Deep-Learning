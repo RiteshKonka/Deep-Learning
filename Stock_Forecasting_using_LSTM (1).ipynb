{
  "nbformat": 4,
  "nbformat_minor": 0,
  "metadata": {
    "colab": {
      "provenance": [],
      "gpuType": "T4"
    },
    "kernelspec": {
      "name": "python3",
      "display_name": "Python 3"
    },
    "language_info": {
      "name": "python"
    },
    "accelerator": "GPU"
  },
  "cells": [
    {
      "cell_type": "markdown",
      "source": [
        "**Problem Statement**\n",
        "\n",
        "We are seeking a machine learning engineer with expertise in transformers and time series data analysis and signal processing. The engineer should have a strong knowledge of machine learning and deep learning algorithms, proficiency in data preprocessing and feature engineering techniques, and experience working with time-series data analysis and signal processing. The engineer should also be familiar with data privacy and security practices, such as differential privacy. The engineer should have expertise in programming languages commonly used in ML and DL, such as Python, and frameworks like PyTorch or TensorFlow. The engineer should be proficient in data visualization and interpretation of results.\n",
        "\n",
        "Please note that this project requires a significant level of knowledge and experience. Therefore, we kindly request that if you do not possess the required expertise or are unfamiliar with this particular subject matter, it would be best not to invest further time in this specific project."
      ],
      "metadata": {
        "id": "3leoxKLb5G96"
      }
    },
    {
      "cell_type": "code",
      "execution_count": 7,
      "metadata": {
        "id": "Px_fEh4anAfb"
      },
      "outputs": [],
      "source": [
        "import pandas as pd\n",
        "import numpy as np\n",
        "import matplotlib.pyplot as plt\n",
        "from sklearn.preprocessing import MinMaxScaler\n",
        "import math\n",
        "import os\n",
        "from sklearn.metrics import mean_squared_error\n",
        "from tensorflow.keras.models import Sequential\n",
        "from tensorflow.keras.layers import Dense\n",
        "from tensorflow.keras.layers import LSTM\n",
        "from numpy import array"
      ]
    },
    {
      "cell_type": "code",
      "source": [
        "from google.colab import drive\n",
        "drive.mount('/content/gdrive')"
      ],
      "metadata": {
        "colab": {
          "base_uri": "https://localhost:8080/"
        },
        "id": "V7JMiNSJnfnl",
        "outputId": "84bbb4db-7425-4274-9355-2564521eca32"
      },
      "execution_count": 4,
      "outputs": [
        {
          "output_type": "stream",
          "name": "stdout",
          "text": [
            "Mounted at /content/gdrive\n"
          ]
        }
      ]
    },
    {
      "cell_type": "code",
      "source": [
        "df = pd.read_csv(\"/content/gdrive/My Drive/datasets/AAPL.csv\")\n",
        "df.head()"
      ],
      "metadata": {
        "colab": {
          "base_uri": "https://localhost:8080/",
          "height": 206
        },
        "id": "RndhYv_xn-gG",
        "outputId": "496002a1-d48f-44c3-a620-bc384c356730"
      },
      "execution_count": 5,
      "outputs": [
        {
          "output_type": "execute_result",
          "data": {
            "text/plain": [
              "   Unnamed: 0 symbol                       date    close     high     low  \\\n",
              "0           0   AAPL  2015-05-27 00:00:00+00:00  132.045  132.260  130.05   \n",
              "1           1   AAPL  2015-05-28 00:00:00+00:00  131.780  131.950  131.10   \n",
              "2           2   AAPL  2015-05-29 00:00:00+00:00  130.280  131.450  129.90   \n",
              "3           3   AAPL  2015-06-01 00:00:00+00:00  130.535  131.390  130.05   \n",
              "4           4   AAPL  2015-06-02 00:00:00+00:00  129.960  130.655  129.32   \n",
              "\n",
              "     open    volume    adjClose     adjHigh      adjLow     adjOpen  \\\n",
              "0  130.34  45833246  121.682558  121.880685  119.844118  120.111360   \n",
              "1  131.86  30733309  121.438354  121.595013  120.811718  121.512076   \n",
              "2  131.23  50884452  120.056069  121.134251  119.705890  120.931516   \n",
              "3  131.20  32112797  120.291057  121.078960  119.844118  120.903870   \n",
              "4  129.86  33667627  119.761181  120.401640  119.171406  119.669029   \n",
              "\n",
              "   adjVolume  divCash  splitFactor  \n",
              "0   45833246      0.0          1.0  \n",
              "1   30733309      0.0          1.0  \n",
              "2   50884452      0.0          1.0  \n",
              "3   32112797      0.0          1.0  \n",
              "4   33667627      0.0          1.0  "
            ],
            "text/html": [
              "\n",
              "  <div id=\"df-d1aeebe3-f222-4e6c-9f0c-11faa1a34984\">\n",
              "    <div class=\"colab-df-container\">\n",
              "      <div>\n",
              "<style scoped>\n",
              "    .dataframe tbody tr th:only-of-type {\n",
              "        vertical-align: middle;\n",
              "    }\n",
              "\n",
              "    .dataframe tbody tr th {\n",
              "        vertical-align: top;\n",
              "    }\n",
              "\n",
              "    .dataframe thead th {\n",
              "        text-align: right;\n",
              "    }\n",
              "</style>\n",
              "<table border=\"1\" class=\"dataframe\">\n",
              "  <thead>\n",
              "    <tr style=\"text-align: right;\">\n",
              "      <th></th>\n",
              "      <th>Unnamed: 0</th>\n",
              "      <th>symbol</th>\n",
              "      <th>date</th>\n",
              "      <th>close</th>\n",
              "      <th>high</th>\n",
              "      <th>low</th>\n",
              "      <th>open</th>\n",
              "      <th>volume</th>\n",
              "      <th>adjClose</th>\n",
              "      <th>adjHigh</th>\n",
              "      <th>adjLow</th>\n",
              "      <th>adjOpen</th>\n",
              "      <th>adjVolume</th>\n",
              "      <th>divCash</th>\n",
              "      <th>splitFactor</th>\n",
              "    </tr>\n",
              "  </thead>\n",
              "  <tbody>\n",
              "    <tr>\n",
              "      <th>0</th>\n",
              "      <td>0</td>\n",
              "      <td>AAPL</td>\n",
              "      <td>2015-05-27 00:00:00+00:00</td>\n",
              "      <td>132.045</td>\n",
              "      <td>132.260</td>\n",
              "      <td>130.05</td>\n",
              "      <td>130.34</td>\n",
              "      <td>45833246</td>\n",
              "      <td>121.682558</td>\n",
              "      <td>121.880685</td>\n",
              "      <td>119.844118</td>\n",
              "      <td>120.111360</td>\n",
              "      <td>45833246</td>\n",
              "      <td>0.0</td>\n",
              "      <td>1.0</td>\n",
              "    </tr>\n",
              "    <tr>\n",
              "      <th>1</th>\n",
              "      <td>1</td>\n",
              "      <td>AAPL</td>\n",
              "      <td>2015-05-28 00:00:00+00:00</td>\n",
              "      <td>131.780</td>\n",
              "      <td>131.950</td>\n",
              "      <td>131.10</td>\n",
              "      <td>131.86</td>\n",
              "      <td>30733309</td>\n",
              "      <td>121.438354</td>\n",
              "      <td>121.595013</td>\n",
              "      <td>120.811718</td>\n",
              "      <td>121.512076</td>\n",
              "      <td>30733309</td>\n",
              "      <td>0.0</td>\n",
              "      <td>1.0</td>\n",
              "    </tr>\n",
              "    <tr>\n",
              "      <th>2</th>\n",
              "      <td>2</td>\n",
              "      <td>AAPL</td>\n",
              "      <td>2015-05-29 00:00:00+00:00</td>\n",
              "      <td>130.280</td>\n",
              "      <td>131.450</td>\n",
              "      <td>129.90</td>\n",
              "      <td>131.23</td>\n",
              "      <td>50884452</td>\n",
              "      <td>120.056069</td>\n",
              "      <td>121.134251</td>\n",
              "      <td>119.705890</td>\n",
              "      <td>120.931516</td>\n",
              "      <td>50884452</td>\n",
              "      <td>0.0</td>\n",
              "      <td>1.0</td>\n",
              "    </tr>\n",
              "    <tr>\n",
              "      <th>3</th>\n",
              "      <td>3</td>\n",
              "      <td>AAPL</td>\n",
              "      <td>2015-06-01 00:00:00+00:00</td>\n",
              "      <td>130.535</td>\n",
              "      <td>131.390</td>\n",
              "      <td>130.05</td>\n",
              "      <td>131.20</td>\n",
              "      <td>32112797</td>\n",
              "      <td>120.291057</td>\n",
              "      <td>121.078960</td>\n",
              "      <td>119.844118</td>\n",
              "      <td>120.903870</td>\n",
              "      <td>32112797</td>\n",
              "      <td>0.0</td>\n",
              "      <td>1.0</td>\n",
              "    </tr>\n",
              "    <tr>\n",
              "      <th>4</th>\n",
              "      <td>4</td>\n",
              "      <td>AAPL</td>\n",
              "      <td>2015-06-02 00:00:00+00:00</td>\n",
              "      <td>129.960</td>\n",
              "      <td>130.655</td>\n",
              "      <td>129.32</td>\n",
              "      <td>129.86</td>\n",
              "      <td>33667627</td>\n",
              "      <td>119.761181</td>\n",
              "      <td>120.401640</td>\n",
              "      <td>119.171406</td>\n",
              "      <td>119.669029</td>\n",
              "      <td>33667627</td>\n",
              "      <td>0.0</td>\n",
              "      <td>1.0</td>\n",
              "    </tr>\n",
              "  </tbody>\n",
              "</table>\n",
              "</div>\n",
              "      <button class=\"colab-df-convert\" onclick=\"convertToInteractive('df-d1aeebe3-f222-4e6c-9f0c-11faa1a34984')\"\n",
              "              title=\"Convert this dataframe to an interactive table.\"\n",
              "              style=\"display:none;\">\n",
              "        \n",
              "  <svg xmlns=\"http://www.w3.org/2000/svg\" height=\"24px\"viewBox=\"0 0 24 24\"\n",
              "       width=\"24px\">\n",
              "    <path d=\"M0 0h24v24H0V0z\" fill=\"none\"/>\n",
              "    <path d=\"M18.56 5.44l.94 2.06.94-2.06 2.06-.94-2.06-.94-.94-2.06-.94 2.06-2.06.94zm-11 1L8.5 8.5l.94-2.06 2.06-.94-2.06-.94L8.5 2.5l-.94 2.06-2.06.94zm10 10l.94 2.06.94-2.06 2.06-.94-2.06-.94-.94-2.06-.94 2.06-2.06.94z\"/><path d=\"M17.41 7.96l-1.37-1.37c-.4-.4-.92-.59-1.43-.59-.52 0-1.04.2-1.43.59L10.3 9.45l-7.72 7.72c-.78.78-.78 2.05 0 2.83L4 21.41c.39.39.9.59 1.41.59.51 0 1.02-.2 1.41-.59l7.78-7.78 2.81-2.81c.8-.78.8-2.07 0-2.86zM5.41 20L4 18.59l7.72-7.72 1.47 1.35L5.41 20z\"/>\n",
              "  </svg>\n",
              "      </button>\n",
              "      \n",
              "  <style>\n",
              "    .colab-df-container {\n",
              "      display:flex;\n",
              "      flex-wrap:wrap;\n",
              "      gap: 12px;\n",
              "    }\n",
              "\n",
              "    .colab-df-convert {\n",
              "      background-color: #E8F0FE;\n",
              "      border: none;\n",
              "      border-radius: 50%;\n",
              "      cursor: pointer;\n",
              "      display: none;\n",
              "      fill: #1967D2;\n",
              "      height: 32px;\n",
              "      padding: 0 0 0 0;\n",
              "      width: 32px;\n",
              "    }\n",
              "\n",
              "    .colab-df-convert:hover {\n",
              "      background-color: #E2EBFA;\n",
              "      box-shadow: 0px 1px 2px rgba(60, 64, 67, 0.3), 0px 1px 3px 1px rgba(60, 64, 67, 0.15);\n",
              "      fill: #174EA6;\n",
              "    }\n",
              "\n",
              "    [theme=dark] .colab-df-convert {\n",
              "      background-color: #3B4455;\n",
              "      fill: #D2E3FC;\n",
              "    }\n",
              "\n",
              "    [theme=dark] .colab-df-convert:hover {\n",
              "      background-color: #434B5C;\n",
              "      box-shadow: 0px 1px 3px 1px rgba(0, 0, 0, 0.15);\n",
              "      filter: drop-shadow(0px 1px 2px rgba(0, 0, 0, 0.3));\n",
              "      fill: #FFFFFF;\n",
              "    }\n",
              "  </style>\n",
              "\n",
              "      <script>\n",
              "        const buttonEl =\n",
              "          document.querySelector('#df-d1aeebe3-f222-4e6c-9f0c-11faa1a34984 button.colab-df-convert');\n",
              "        buttonEl.style.display =\n",
              "          google.colab.kernel.accessAllowed ? 'block' : 'none';\n",
              "\n",
              "        async function convertToInteractive(key) {\n",
              "          const element = document.querySelector('#df-d1aeebe3-f222-4e6c-9f0c-11faa1a34984');\n",
              "          const dataTable =\n",
              "            await google.colab.kernel.invokeFunction('convertToInteractive',\n",
              "                                                     [key], {});\n",
              "          if (!dataTable) return;\n",
              "\n",
              "          const docLinkHtml = 'Like what you see? Visit the ' +\n",
              "            '<a target=\"_blank\" href=https://colab.research.google.com/notebooks/data_table.ipynb>data table notebook</a>'\n",
              "            + ' to learn more about interactive tables.';\n",
              "          element.innerHTML = '';\n",
              "          dataTable['output_type'] = 'display_data';\n",
              "          await google.colab.output.renderOutput(dataTable, element);\n",
              "          const docLink = document.createElement('div');\n",
              "          docLink.innerHTML = docLinkHtml;\n",
              "          element.appendChild(docLink);\n",
              "        }\n",
              "      </script>\n",
              "    </div>\n",
              "  </div>\n",
              "  "
            ]
          },
          "metadata": {},
          "execution_count": 5
        }
      ]
    },
    {
      "cell_type": "code",
      "source": [
        "df.tail()"
      ],
      "metadata": {
        "colab": {
          "base_uri": "https://localhost:8080/",
          "height": 206
        },
        "id": "7Gs3VqDnoRMx",
        "outputId": "e6843d60-2d33-4aad-f86c-90a9905aeb22"
      },
      "execution_count": 6,
      "outputs": [
        {
          "output_type": "execute_result",
          "data": {
            "text/plain": [
              "      Unnamed: 0 symbol                       date   close    high       low  \\\n",
              "1253        1253   AAPL  2020-05-18 00:00:00+00:00  314.96  316.50  310.3241   \n",
              "1254        1254   AAPL  2020-05-19 00:00:00+00:00  313.14  318.52  313.0100   \n",
              "1255        1255   AAPL  2020-05-20 00:00:00+00:00  319.23  319.52  316.2000   \n",
              "1256        1256   AAPL  2020-05-21 00:00:00+00:00  316.85  320.89  315.8700   \n",
              "1257        1257   AAPL  2020-05-22 00:00:00+00:00  318.89  319.23  315.3500   \n",
              "\n",
              "        open    volume  adjClose  adjHigh    adjLow  adjOpen  adjVolume  \\\n",
              "1253  313.17  33843125    314.96   316.50  310.3241   313.17   33843125   \n",
              "1254  315.03  25432385    313.14   318.52  313.0100   315.03   25432385   \n",
              "1255  316.68  27876215    319.23   319.52  316.2000   316.68   27876215   \n",
              "1256  318.66  25672211    316.85   320.89  315.8700   318.66   25672211   \n",
              "1257  315.77  20450754    318.89   319.23  315.3500   315.77   20450754   \n",
              "\n",
              "      divCash  splitFactor  \n",
              "1253      0.0          1.0  \n",
              "1254      0.0          1.0  \n",
              "1255      0.0          1.0  \n",
              "1256      0.0          1.0  \n",
              "1257      0.0          1.0  "
            ],
            "text/html": [
              "\n",
              "  <div id=\"df-52cb742e-1b05-457c-873c-cfdd785f777e\">\n",
              "    <div class=\"colab-df-container\">\n",
              "      <div>\n",
              "<style scoped>\n",
              "    .dataframe tbody tr th:only-of-type {\n",
              "        vertical-align: middle;\n",
              "    }\n",
              "\n",
              "    .dataframe tbody tr th {\n",
              "        vertical-align: top;\n",
              "    }\n",
              "\n",
              "    .dataframe thead th {\n",
              "        text-align: right;\n",
              "    }\n",
              "</style>\n",
              "<table border=\"1\" class=\"dataframe\">\n",
              "  <thead>\n",
              "    <tr style=\"text-align: right;\">\n",
              "      <th></th>\n",
              "      <th>Unnamed: 0</th>\n",
              "      <th>symbol</th>\n",
              "      <th>date</th>\n",
              "      <th>close</th>\n",
              "      <th>high</th>\n",
              "      <th>low</th>\n",
              "      <th>open</th>\n",
              "      <th>volume</th>\n",
              "      <th>adjClose</th>\n",
              "      <th>adjHigh</th>\n",
              "      <th>adjLow</th>\n",
              "      <th>adjOpen</th>\n",
              "      <th>adjVolume</th>\n",
              "      <th>divCash</th>\n",
              "      <th>splitFactor</th>\n",
              "    </tr>\n",
              "  </thead>\n",
              "  <tbody>\n",
              "    <tr>\n",
              "      <th>1253</th>\n",
              "      <td>1253</td>\n",
              "      <td>AAPL</td>\n",
              "      <td>2020-05-18 00:00:00+00:00</td>\n",
              "      <td>314.96</td>\n",
              "      <td>316.50</td>\n",
              "      <td>310.3241</td>\n",
              "      <td>313.17</td>\n",
              "      <td>33843125</td>\n",
              "      <td>314.96</td>\n",
              "      <td>316.50</td>\n",
              "      <td>310.3241</td>\n",
              "      <td>313.17</td>\n",
              "      <td>33843125</td>\n",
              "      <td>0.0</td>\n",
              "      <td>1.0</td>\n",
              "    </tr>\n",
              "    <tr>\n",
              "      <th>1254</th>\n",
              "      <td>1254</td>\n",
              "      <td>AAPL</td>\n",
              "      <td>2020-05-19 00:00:00+00:00</td>\n",
              "      <td>313.14</td>\n",
              "      <td>318.52</td>\n",
              "      <td>313.0100</td>\n",
              "      <td>315.03</td>\n",
              "      <td>25432385</td>\n",
              "      <td>313.14</td>\n",
              "      <td>318.52</td>\n",
              "      <td>313.0100</td>\n",
              "      <td>315.03</td>\n",
              "      <td>25432385</td>\n",
              "      <td>0.0</td>\n",
              "      <td>1.0</td>\n",
              "    </tr>\n",
              "    <tr>\n",
              "      <th>1255</th>\n",
              "      <td>1255</td>\n",
              "      <td>AAPL</td>\n",
              "      <td>2020-05-20 00:00:00+00:00</td>\n",
              "      <td>319.23</td>\n",
              "      <td>319.52</td>\n",
              "      <td>316.2000</td>\n",
              "      <td>316.68</td>\n",
              "      <td>27876215</td>\n",
              "      <td>319.23</td>\n",
              "      <td>319.52</td>\n",
              "      <td>316.2000</td>\n",
              "      <td>316.68</td>\n",
              "      <td>27876215</td>\n",
              "      <td>0.0</td>\n",
              "      <td>1.0</td>\n",
              "    </tr>\n",
              "    <tr>\n",
              "      <th>1256</th>\n",
              "      <td>1256</td>\n",
              "      <td>AAPL</td>\n",
              "      <td>2020-05-21 00:00:00+00:00</td>\n",
              "      <td>316.85</td>\n",
              "      <td>320.89</td>\n",
              "      <td>315.8700</td>\n",
              "      <td>318.66</td>\n",
              "      <td>25672211</td>\n",
              "      <td>316.85</td>\n",
              "      <td>320.89</td>\n",
              "      <td>315.8700</td>\n",
              "      <td>318.66</td>\n",
              "      <td>25672211</td>\n",
              "      <td>0.0</td>\n",
              "      <td>1.0</td>\n",
              "    </tr>\n",
              "    <tr>\n",
              "      <th>1257</th>\n",
              "      <td>1257</td>\n",
              "      <td>AAPL</td>\n",
              "      <td>2020-05-22 00:00:00+00:00</td>\n",
              "      <td>318.89</td>\n",
              "      <td>319.23</td>\n",
              "      <td>315.3500</td>\n",
              "      <td>315.77</td>\n",
              "      <td>20450754</td>\n",
              "      <td>318.89</td>\n",
              "      <td>319.23</td>\n",
              "      <td>315.3500</td>\n",
              "      <td>315.77</td>\n",
              "      <td>20450754</td>\n",
              "      <td>0.0</td>\n",
              "      <td>1.0</td>\n",
              "    </tr>\n",
              "  </tbody>\n",
              "</table>\n",
              "</div>\n",
              "      <button class=\"colab-df-convert\" onclick=\"convertToInteractive('df-52cb742e-1b05-457c-873c-cfdd785f777e')\"\n",
              "              title=\"Convert this dataframe to an interactive table.\"\n",
              "              style=\"display:none;\">\n",
              "        \n",
              "  <svg xmlns=\"http://www.w3.org/2000/svg\" height=\"24px\"viewBox=\"0 0 24 24\"\n",
              "       width=\"24px\">\n",
              "    <path d=\"M0 0h24v24H0V0z\" fill=\"none\"/>\n",
              "    <path d=\"M18.56 5.44l.94 2.06.94-2.06 2.06-.94-2.06-.94-.94-2.06-.94 2.06-2.06.94zm-11 1L8.5 8.5l.94-2.06 2.06-.94-2.06-.94L8.5 2.5l-.94 2.06-2.06.94zm10 10l.94 2.06.94-2.06 2.06-.94-2.06-.94-.94-2.06-.94 2.06-2.06.94z\"/><path d=\"M17.41 7.96l-1.37-1.37c-.4-.4-.92-.59-1.43-.59-.52 0-1.04.2-1.43.59L10.3 9.45l-7.72 7.72c-.78.78-.78 2.05 0 2.83L4 21.41c.39.39.9.59 1.41.59.51 0 1.02-.2 1.41-.59l7.78-7.78 2.81-2.81c.8-.78.8-2.07 0-2.86zM5.41 20L4 18.59l7.72-7.72 1.47 1.35L5.41 20z\"/>\n",
              "  </svg>\n",
              "      </button>\n",
              "      \n",
              "  <style>\n",
              "    .colab-df-container {\n",
              "      display:flex;\n",
              "      flex-wrap:wrap;\n",
              "      gap: 12px;\n",
              "    }\n",
              "\n",
              "    .colab-df-convert {\n",
              "      background-color: #E8F0FE;\n",
              "      border: none;\n",
              "      border-radius: 50%;\n",
              "      cursor: pointer;\n",
              "      display: none;\n",
              "      fill: #1967D2;\n",
              "      height: 32px;\n",
              "      padding: 0 0 0 0;\n",
              "      width: 32px;\n",
              "    }\n",
              "\n",
              "    .colab-df-convert:hover {\n",
              "      background-color: #E2EBFA;\n",
              "      box-shadow: 0px 1px 2px rgba(60, 64, 67, 0.3), 0px 1px 3px 1px rgba(60, 64, 67, 0.15);\n",
              "      fill: #174EA6;\n",
              "    }\n",
              "\n",
              "    [theme=dark] .colab-df-convert {\n",
              "      background-color: #3B4455;\n",
              "      fill: #D2E3FC;\n",
              "    }\n",
              "\n",
              "    [theme=dark] .colab-df-convert:hover {\n",
              "      background-color: #434B5C;\n",
              "      box-shadow: 0px 1px 3px 1px rgba(0, 0, 0, 0.15);\n",
              "      filter: drop-shadow(0px 1px 2px rgba(0, 0, 0, 0.3));\n",
              "      fill: #FFFFFF;\n",
              "    }\n",
              "  </style>\n",
              "\n",
              "      <script>\n",
              "        const buttonEl =\n",
              "          document.querySelector('#df-52cb742e-1b05-457c-873c-cfdd785f777e button.colab-df-convert');\n",
              "        buttonEl.style.display =\n",
              "          google.colab.kernel.accessAllowed ? 'block' : 'none';\n",
              "\n",
              "        async function convertToInteractive(key) {\n",
              "          const element = document.querySelector('#df-52cb742e-1b05-457c-873c-cfdd785f777e');\n",
              "          const dataTable =\n",
              "            await google.colab.kernel.invokeFunction('convertToInteractive',\n",
              "                                                     [key], {});\n",
              "          if (!dataTable) return;\n",
              "\n",
              "          const docLinkHtml = 'Like what you see? Visit the ' +\n",
              "            '<a target=\"_blank\" href=https://colab.research.google.com/notebooks/data_table.ipynb>data table notebook</a>'\n",
              "            + ' to learn more about interactive tables.';\n",
              "          element.innerHTML = '';\n",
              "          dataTable['output_type'] = 'display_data';\n",
              "          await google.colab.output.renderOutput(dataTable, element);\n",
              "          const docLink = document.createElement('div');\n",
              "          docLink.innerHTML = docLinkHtml;\n",
              "          element.appendChild(docLink);\n",
              "        }\n",
              "      </script>\n",
              "    </div>\n",
              "  </div>\n",
              "  "
            ]
          },
          "metadata": {},
          "execution_count": 6
        }
      ]
    },
    {
      "cell_type": "code",
      "source": [
        "df.shape"
      ],
      "metadata": {
        "colab": {
          "base_uri": "https://localhost:8080/"
        },
        "id": "f7MTizfsoXlM",
        "outputId": "48137d47-e434-4db1-dec9-2e1644f78f9f"
      },
      "execution_count": 9,
      "outputs": [
        {
          "output_type": "execute_result",
          "data": {
            "text/plain": [
              "(1258, 15)"
            ]
          },
          "metadata": {},
          "execution_count": 9
        }
      ]
    },
    {
      "cell_type": "code",
      "source": [
        "df.isna().sum()"
      ],
      "metadata": {
        "colab": {
          "base_uri": "https://localhost:8080/"
        },
        "id": "4mi8RJ99ozbo",
        "outputId": "bf4454ee-9fc7-4593-8481-975958e8b2f9"
      },
      "execution_count": 11,
      "outputs": [
        {
          "output_type": "execute_result",
          "data": {
            "text/plain": [
              "Unnamed: 0     0\n",
              "symbol         0\n",
              "date           0\n",
              "close          0\n",
              "high           0\n",
              "low            0\n",
              "open           0\n",
              "volume         0\n",
              "adjClose       0\n",
              "adjHigh        0\n",
              "adjLow         0\n",
              "adjOpen        0\n",
              "adjVolume      0\n",
              "divCash        0\n",
              "splitFactor    0\n",
              "dtype: int64"
            ]
          },
          "metadata": {},
          "execution_count": 11
        }
      ]
    },
    {
      "cell_type": "code",
      "source": [
        "#Visualizing the stock prices\n",
        "sample_df = df.copy()\n",
        "sample_df['date'] = pd.to_datetime(sample_df['date'])\n",
        "sample_df.set_index('date', inplace=True)\n",
        "sample_df['close'].plot(figsize=(12, 6))\n",
        "plt.title('Apple Stock Prices - Closing Prices')\n",
        "plt.xlabel('Date')\n",
        "plt.ylabel('Closing Price')\n",
        "plt.grid(True)\n",
        "plt.show()"
      ],
      "metadata": {
        "colab": {
          "base_uri": "https://localhost:8080/",
          "height": 526
        },
        "id": "JmGoh1Trv7i2",
        "outputId": "3d8eaea0-7ab2-4163-b21f-b034bb50bcb0"
      },
      "execution_count": 26,
      "outputs": [
        {
          "output_type": "display_data",
          "data": {
            "text/plain": [
              "<Figure size 1200x600 with 1 Axes>"
            ],
            "image/png": "[encoded data removed]"
          },
          "metadata": {}
        }
      ]
    },
    {
      "cell_type": "code",
      "source": [
        "df1=df.reset_index()['close']\n",
        "df1.shape"
      ],
      "metadata": {
        "colab": {
          "base_uri": "https://localhost:8080/"
        },
        "id": "1Xhc_dd-okLF",
        "outputId": "ef9df584-2c05-44c9-d70b-b28ec1ebde60"
      },
      "execution_count": 14,
      "outputs": [
        {
          "output_type": "execute_result",
          "data": {
            "text/plain": [
              "(1258,)"
            ]
          },
          "metadata": {},
          "execution_count": 14
        }
      ]
    },
    {
      "cell_type": "code",
      "source": [
        "#Preprocessing\n",
        "scaler = MinMaxScaler(feature_range=(0,1))\n",
        "df1=scaler.fit_transform(np.array(df1).reshape(-1,1))\n",
        "df1.shape"
      ],
      "metadata": {
        "colab": {
          "base_uri": "https://localhost:8080/"
        },
        "id": "KQnYZduMo7Kb",
        "outputId": "3886ab53-696c-46b3-b82b-6f36ccb2c814"
      },
      "execution_count": 16,
      "outputs": [
        {
          "output_type": "execute_result",
          "data": {
            "text/plain": [
              "(1258, 1)"
            ]
          },
          "metadata": {},
          "execution_count": 16
        }
      ]
    },
    {
      "cell_type": "code",
      "source": [
        "#Splitting Datasets into train and test\n",
        "training_size = int(0.65*len(df1))\n",
        "test_size = len(df1)-training_size\n",
        "train_data,test_data = df1[0:training_size,:],df1[training_size:len(df1),:1]\n",
        "print(train_data.shape,test_data.shape)"
      ],
      "metadata": {
        "colab": {
          "base_uri": "https://localhost:8080/"
        },
        "id": "0B1UIHRWptfa",
        "outputId": "459b5973-ead2-4586-ca19-66297767bbda"
      },
      "execution_count": 17,
      "outputs": [
        {
          "output_type": "stream",
          "name": "stdout",
          "text": [
            "(817, 1) (441, 1)\n"
          ]
        }
      ]
    },
    {
      "cell_type": "code",
      "source": [
        "import time\n",
        "#Function to create datasets into x_train,y_train,x_test and y_test\n",
        "def create_dataset(dataset,time_step):\n",
        "  dataX,dataY = [],[]\n",
        "  for i in range(len(dataset)-time_step-1):\n",
        "    a = dataset[i:(time_step+i),0]\n",
        "    dataX.append(a)\n",
        "    dataY.append(dataset[time_step+i,0])\n",
        "  return np.array(dataX),np.array(dataY)\n"
      ],
      "metadata": {
        "id": "kBovYslrqqRS"
      },
      "execution_count": 20,
      "outputs": []
    },
    {
      "cell_type": "code",
      "source": [
        "time_step = 100\n",
        "X_train,y_train = create_dataset(train_data,time_step)\n",
        "X_test,y_test = create_dataset(test_data,time_step)\n",
        "print(X_train.shape,y_train.shape)\n",
        "print(X_test.shape,y_test.shape)"
      ],
      "metadata": {
        "colab": {
          "base_uri": "https://localhost:8080/"
        },
        "id": "n_7n9l_ws-XX",
        "outputId": "3af0661d-5bea-4979-cd47-874f08deedc2"
      },
      "execution_count": 22,
      "outputs": [
        {
          "output_type": "stream",
          "name": "stdout",
          "text": [
            "(716, 100) (716,)\n",
            "(340, 100) (340,)\n"
          ]
        }
      ]
    },
    {
      "cell_type": "code",
      "source": [
        "# reshape input to be [samples, time steps, features] which is required for LSTM\n",
        "X_train = X_train.reshape(X_train.shape[0],X_train.shape[1],1)\n",
        "X_test = X_test.reshape(X_test.shape[0],X_test.shape[1] , 1)\n",
        "print(X_train.shape,X_test.shape)"
      ],
      "metadata": {
        "colab": {
          "base_uri": "https://localhost:8080/"
        },
        "id": "K31FEhmEtViz",
        "outputId": "25eb311f-2744-4220-fcc8-8c4053e78894"
      },
      "execution_count": 24,
      "outputs": [
        {
          "output_type": "stream",
          "name": "stdout",
          "text": [
            "(716, 100, 1) (340, 100, 1)\n"
          ]
        }
      ]
    },
    {
      "cell_type": "markdown",
      "source": [
        "Model Building"
      ],
      "metadata": {
        "id": "ck6Ha6Pw6fBn"
      }
    },
    {
      "cell_type": "code",
      "source": [
        "#Creating the LSTM model for training\n",
        "model = Sequential()\n",
        "model.add(LSTM(units=50,return_sequences=True,input_shape=(100,1)))\n",
        "model.add(LSTM(units=50,return_sequences=True))\n",
        "model.add(LSTM(units=50))\n",
        "model.add(Dense(1))\n",
        "model.compile(loss = 'mean_squared_error',optimizer = 'adam')\n",
        "model.summary()"
      ],
      "metadata": {
        "colab": {
          "base_uri": "https://localhost:8080/"
        },
        "id": "hH46wJRquKpR",
        "outputId": "e7e1cbb5-9138-423f-b5ac-39984246b4c6"
      },
      "execution_count": 29,
      "outputs": [
        {
          "output_type": "stream",
          "name": "stdout",
          "text": [
            "Model: \"sequential_3\"\n",
            "_________________________________________________________________\n",
            " Layer (type)                Output Shape              Param #   \n",
            "=================================================================\n",
            " lstm_9 (LSTM)               (None, 100, 50)           10400     \n",
            "                                                                 \n",
            " lstm_10 (LSTM)              (None, 100, 50)           20200     \n",
            "                                                                 \n",
            " lstm_11 (LSTM)              (None, 50)                20200     \n",
            "                                                                 \n",
            " dense_3 (Dense)             (None, 1)                 51        \n",
            "                                                                 \n",
            "=================================================================\n",
            "Total params: 50,851\n",
            "Trainable params: 50,851\n",
            "Non-trainable params: 0\n",
            "_________________________________________________________________\n"
          ]
        }
      ]
    },
    {
      "cell_type": "code",
      "source": [
        "model.fit(X_train,y_train,validation_data=(X_test,y_test),epochs=100,batch_size=64,verbose=1)"
      ],
      "metadata": {
        "colab": {
          "base_uri": "https://localhost:8080/"
        },
        "id": "MVqNmHFVvhDK",
        "outputId": "8cd3c135-e027-4a09-a2d8-52fc03a486ee"
      },
      "execution_count": 30,
      "outputs": [
        {
          "output_type": "stream",
          "name": "stdout",
          "text": [
            "Epoch 1/100\n",
            "12/12 [==============================] - 14s 120ms/step - loss: 0.0131 - val_loss: 0.0655\n",
            "Epoch 2/100\n",
            "12/12 [==============================] - 0s 25ms/step - loss: 0.0026 - val_loss: 0.0078\n",
            "Epoch 3/100\n",
            "12/12 [==============================] - 0s 17ms/step - loss: 0.0011 - val_loss: 0.0043\n",
            "Epoch 4/100\n",
            "12/12 [==============================] - 0s 17ms/step - loss: 7.5097e-04 - val_loss: 0.0054\n",
            "Epoch 5/100\n",
            "12/12 [==============================] - 0s 17ms/step - loss: 6.7889e-04 - val_loss: 0.0052\n",
            "Epoch 6/100\n",
            "12/12 [==============================] - 0s 17ms/step - loss: 6.5449e-04 - val_loss: 0.0044\n",
            "Epoch 7/100\n",
            "12/12 [==============================] - 0s 21ms/step - loss: 6.5291e-04 - val_loss: 0.0050\n",
            "Epoch 8/100\n",
            "12/12 [==============================] - 0s 21ms/step - loss: 6.3724e-04 - val_loss: 0.0056\n",
            "Epoch 9/100\n",
            "12/12 [==============================] - 0s 26ms/step - loss: 6.5123e-04 - val_loss: 0.0040\n",
            "Epoch 10/100\n",
            "12/12 [==============================] - 0s 24ms/step - loss: 6.4061e-04 - val_loss: 0.0039\n",
            "Epoch 11/100\n",
            "12/12 [==============================] - 0s 24ms/step - loss: 6.0699e-04 - val_loss: 0.0044\n",
            "Epoch 12/100\n",
            "12/12 [==============================] - 0s 25ms/step - loss: 6.1885e-04 - val_loss: 0.0039\n",
            "Epoch 13/100\n",
            "12/12 [==============================] - 0s 25ms/step - loss: 5.8310e-04 - val_loss: 0.0037\n",
            "Epoch 14/100\n",
            "12/12 [==============================] - 0s 27ms/step - loss: 6.0552e-04 - val_loss: 0.0041\n",
            "Epoch 15/100\n",
            "12/12 [==============================] - 0s 27ms/step - loss: 5.5836e-04 - val_loss: 0.0051\n",
            "Epoch 16/100\n",
            "12/12 [==============================] - 0s 24ms/step - loss: 6.0054e-04 - val_loss: 0.0048\n",
            "Epoch 17/100\n",
            "12/12 [==============================] - 0s 25ms/step - loss: 5.9789e-04 - val_loss: 0.0031\n",
            "Epoch 18/100\n",
            "12/12 [==============================] - 0s 25ms/step - loss: 5.8905e-04 - val_loss: 0.0032\n",
            "Epoch 19/100\n",
            "12/12 [==============================] - 0s 26ms/step - loss: 5.7244e-04 - val_loss: 0.0031\n",
            "Epoch 20/100\n",
            "12/12 [==============================] - 0s 20ms/step - loss: 5.9502e-04 - val_loss: 0.0028\n",
            "Epoch 21/100\n",
            "12/12 [==============================] - 0s 18ms/step - loss: 5.4104e-04 - val_loss: 0.0029\n",
            "Epoch 22/100\n",
            "12/12 [==============================] - 0s 21ms/step - loss: 5.6515e-04 - val_loss: 0.0032\n",
            "Epoch 23/100\n",
            "12/12 [==============================] - 0s 19ms/step - loss: 5.8829e-04 - val_loss: 0.0028\n",
            "Epoch 24/100\n",
            "12/12 [==============================] - 0s 17ms/step - loss: 6.1440e-04 - val_loss: 0.0026\n",
            "Epoch 25/100\n",
            "12/12 [==============================] - 0s 19ms/step - loss: 4.9554e-04 - val_loss: 0.0025\n",
            "Epoch 26/100\n",
            "12/12 [==============================] - 0s 18ms/step - loss: 4.7143e-04 - val_loss: 0.0024\n",
            "Epoch 27/100\n",
            "12/12 [==============================] - 0s 17ms/step - loss: 4.6607e-04 - val_loss: 0.0023\n",
            "Epoch 28/100\n",
            "12/12 [==============================] - 0s 16ms/step - loss: 4.6323e-04 - val_loss: 0.0021\n",
            "Epoch 29/100\n",
            "12/12 [==============================] - 0s 17ms/step - loss: 4.4025e-04 - val_loss: 0.0020\n",
            "Epoch 30/100\n",
            "12/12 [==============================] - 0s 17ms/step - loss: 4.2723e-04 - val_loss: 0.0020\n",
            "Epoch 31/100\n",
            "12/12 [==============================] - 0s 17ms/step - loss: 4.2229e-04 - val_loss: 0.0018\n",
            "Epoch 32/100\n",
            "12/12 [==============================] - 0s 17ms/step - loss: 5.5854e-04 - val_loss: 0.0021\n",
            "Epoch 33/100\n",
            "12/12 [==============================] - 0s 17ms/step - loss: 5.8422e-04 - val_loss: 0.0018\n",
            "Epoch 34/100\n",
            "12/12 [==============================] - 0s 17ms/step - loss: 5.1178e-04 - val_loss: 0.0016\n",
            "Epoch 35/100\n",
            "12/12 [==============================] - 0s 17ms/step - loss: 4.0285e-04 - val_loss: 0.0021\n",
            "Epoch 36/100\n",
            "12/12 [==============================] - 0s 18ms/step - loss: 3.7852e-04 - val_loss: 0.0015\n",
            "Epoch 37/100\n",
            "12/12 [==============================] - 0s 17ms/step - loss: 3.5964e-04 - val_loss: 0.0015\n",
            "Epoch 38/100\n",
            "12/12 [==============================] - 0s 17ms/step - loss: 3.5556e-04 - val_loss: 0.0015\n",
            "Epoch 39/100\n",
            "12/12 [==============================] - 0s 18ms/step - loss: 3.4941e-04 - val_loss: 0.0018\n",
            "Epoch 40/100\n",
            "12/12 [==============================] - 0s 18ms/step - loss: 3.6051e-04 - val_loss: 0.0016\n",
            "Epoch 41/100\n",
            "12/12 [==============================] - 0s 17ms/step - loss: 3.3501e-04 - val_loss: 0.0015\n",
            "Epoch 42/100\n",
            "12/12 [==============================] - 0s 18ms/step - loss: 3.5212e-04 - val_loss: 0.0020\n",
            "Epoch 43/100\n",
            "12/12 [==============================] - 0s 17ms/step - loss: 3.2254e-04 - val_loss: 0.0016\n",
            "Epoch 44/100\n",
            "12/12 [==============================] - 0s 18ms/step - loss: 3.1311e-04 - val_loss: 0.0016\n",
            "Epoch 45/100\n",
            "12/12 [==============================] - 0s 17ms/step - loss: 3.0572e-04 - val_loss: 0.0016\n",
            "Epoch 46/100\n",
            "12/12 [==============================] - 0s 17ms/step - loss: 3.3204e-04 - val_loss: 0.0017\n",
            "Epoch 47/100\n",
            "12/12 [==============================] - 0s 17ms/step - loss: 2.9995e-04 - val_loss: 0.0017\n",
            "Epoch 48/100\n",
            "12/12 [==============================] - 0s 17ms/step - loss: 2.9023e-04 - val_loss: 0.0017\n",
            "Epoch 49/100\n",
            "12/12 [==============================] - 0s 17ms/step - loss: 3.0472e-04 - val_loss: 0.0020\n",
            "Epoch 50/100\n",
            "12/12 [==============================] - 0s 18ms/step - loss: 2.8302e-04 - val_loss: 0.0017\n",
            "Epoch 51/100\n",
            "12/12 [==============================] - 0s 17ms/step - loss: 2.7845e-04 - val_loss: 0.0023\n",
            "Epoch 52/100\n",
            "12/12 [==============================] - 0s 18ms/step - loss: 2.7450e-04 - val_loss: 0.0016\n",
            "Epoch 53/100\n",
            "12/12 [==============================] - 0s 17ms/step - loss: 3.1782e-04 - val_loss: 0.0024\n",
            "Epoch 54/100\n",
            "12/12 [==============================] - 0s 17ms/step - loss: 3.1011e-04 - val_loss: 0.0016\n",
            "Epoch 55/100\n",
            "12/12 [==============================] - 0s 17ms/step - loss: 2.7300e-04 - val_loss: 0.0016\n",
            "Epoch 56/100\n",
            "12/12 [==============================] - 0s 18ms/step - loss: 2.6440e-04 - val_loss: 0.0018\n",
            "Epoch 57/100\n",
            "12/12 [==============================] - 0s 17ms/step - loss: 2.4916e-04 - val_loss: 0.0015\n",
            "Epoch 58/100\n",
            "12/12 [==============================] - 0s 17ms/step - loss: 2.8863e-04 - val_loss: 0.0019\n",
            "Epoch 59/100\n",
            "12/12 [==============================] - 0s 17ms/step - loss: 2.4115e-04 - val_loss: 0.0016\n",
            "Epoch 60/100\n",
            "12/12 [==============================] - 0s 20ms/step - loss: 2.4302e-04 - val_loss: 0.0020\n",
            "Epoch 61/100\n",
            "12/12 [==============================] - 0s 17ms/step - loss: 2.3878e-04 - val_loss: 0.0016\n",
            "Epoch 62/100\n",
            "12/12 [==============================] - 0s 19ms/step - loss: 2.2547e-04 - val_loss: 0.0018\n",
            "Epoch 63/100\n",
            "12/12 [==============================] - 0s 17ms/step - loss: 2.3828e-04 - val_loss: 0.0015\n",
            "Epoch 64/100\n",
            "12/12 [==============================] - 0s 19ms/step - loss: 2.3444e-04 - val_loss: 0.0018\n",
            "Epoch 65/100\n",
            "12/12 [==============================] - 0s 17ms/step - loss: 2.1589e-04 - val_loss: 0.0016\n",
            "Epoch 66/100\n",
            "12/12 [==============================] - 0s 16ms/step - loss: 2.1013e-04 - val_loss: 0.0023\n",
            "Epoch 67/100\n",
            "12/12 [==============================] - 0s 21ms/step - loss: 2.2330e-04 - val_loss: 0.0016\n",
            "Epoch 68/100\n",
            "12/12 [==============================] - 0s 24ms/step - loss: 2.0077e-04 - val_loss: 0.0019\n",
            "Epoch 69/100\n",
            "12/12 [==============================] - 0s 24ms/step - loss: 2.0047e-04 - val_loss: 0.0017\n",
            "Epoch 70/100\n",
            "12/12 [==============================] - 0s 24ms/step - loss: 2.0966e-04 - val_loss: 0.0018\n",
            "Epoch 71/100\n",
            "12/12 [==============================] - 0s 24ms/step - loss: 1.9832e-04 - val_loss: 0.0016\n",
            "Epoch 72/100\n",
            "12/12 [==============================] - 0s 25ms/step - loss: 1.8973e-04 - val_loss: 0.0019\n",
            "Epoch 73/100\n",
            "12/12 [==============================] - 0s 25ms/step - loss: 1.9761e-04 - val_loss: 0.0016\n",
            "Epoch 74/100\n",
            "12/12 [==============================] - 0s 24ms/step - loss: 1.9277e-04 - val_loss: 0.0019\n",
            "Epoch 75/100\n",
            "12/12 [==============================] - 0s 25ms/step - loss: 1.8763e-04 - val_loss: 0.0017\n",
            "Epoch 76/100\n",
            "12/12 [==============================] - 0s 25ms/step - loss: 1.9739e-04 - val_loss: 0.0016\n",
            "Epoch 77/100\n",
            "12/12 [==============================] - 0s 25ms/step - loss: 1.8982e-04 - val_loss: 0.0018\n",
            "Epoch 78/100\n",
            "12/12 [==============================] - 0s 25ms/step - loss: 1.7682e-04 - val_loss: 0.0017\n",
            "Epoch 79/100\n",
            "12/12 [==============================] - 0s 25ms/step - loss: 1.6563e-04 - val_loss: 0.0026\n",
            "Epoch 80/100\n",
            "12/12 [==============================] - 0s 17ms/step - loss: 2.1988e-04 - val_loss: 0.0017\n",
            "Epoch 81/100\n",
            "12/12 [==============================] - 0s 17ms/step - loss: 1.8204e-04 - val_loss: 0.0014\n",
            "Epoch 82/100\n",
            "12/12 [==============================] - 0s 17ms/step - loss: 1.8985e-04 - val_loss: 0.0017\n",
            "Epoch 83/100\n",
            "12/12 [==============================] - 0s 17ms/step - loss: 1.8644e-04 - val_loss: 0.0016\n",
            "Epoch 84/100\n",
            "12/12 [==============================] - 0s 18ms/step - loss: 1.7673e-04 - val_loss: 0.0015\n",
            "Epoch 85/100\n",
            "12/12 [==============================] - 0s 20ms/step - loss: 1.5835e-04 - val_loss: 0.0015\n",
            "Epoch 86/100\n",
            "12/12 [==============================] - 0s 17ms/step - loss: 1.5293e-04 - val_loss: 0.0016\n",
            "Epoch 87/100\n",
            "12/12 [==============================] - 0s 18ms/step - loss: 1.5241e-04 - val_loss: 0.0016\n",
            "Epoch 88/100\n",
            "12/12 [==============================] - 0s 17ms/step - loss: 1.6168e-04 - val_loss: 0.0015\n",
            "Epoch 89/100\n",
            "12/12 [==============================] - 0s 18ms/step - loss: 1.5873e-04 - val_loss: 0.0018\n",
            "Epoch 90/100\n",
            "12/12 [==============================] - 0s 18ms/step - loss: 1.5150e-04 - val_loss: 0.0015\n",
            "Epoch 91/100\n",
            "12/12 [==============================] - 0s 19ms/step - loss: 1.4934e-04 - val_loss: 0.0021\n",
            "Epoch 92/100\n",
            "12/12 [==============================] - 0s 18ms/step - loss: 1.5549e-04 - val_loss: 0.0014\n",
            "Epoch 93/100\n",
            "12/12 [==============================] - 0s 19ms/step - loss: 1.5256e-04 - val_loss: 0.0014\n",
            "Epoch 94/100\n",
            "12/12 [==============================] - 0s 17ms/step - loss: 1.5228e-04 - val_loss: 0.0016\n",
            "Epoch 95/100\n",
            "12/12 [==============================] - 0s 18ms/step - loss: 1.3671e-04 - val_loss: 0.0029\n",
            "Epoch 96/100\n",
            "12/12 [==============================] - 0s 18ms/step - loss: 2.0317e-04 - val_loss: 0.0017\n",
            "Epoch 97/100\n",
            "12/12 [==============================] - 0s 18ms/step - loss: 2.2328e-04 - val_loss: 0.0012\n",
            "Epoch 98/100\n",
            "12/12 [==============================] - 0s 18ms/step - loss: 1.8008e-04 - val_loss: 0.0014\n",
            "Epoch 99/100\n",
            "12/12 [==============================] - 0s 19ms/step - loss: 1.4621e-04 - val_loss: 0.0011\n",
            "Epoch 100/100\n",
            "12/12 [==============================] - 0s 17ms/step - loss: 1.4380e-04 - val_loss: 9.9855e-04\n"
          ]
        },
        {
          "output_type": "execute_result",
          "data": {
            "text/plain": [
              "<keras.callbacks.History at 0x7ff70e45db70>"
            ]
          },
          "metadata": {},
          "execution_count": 30
        }
      ]
    },
    {
      "cell_type": "code",
      "source": [
        "train_predict=model.predict(X_train)\n",
        "test_predict=model.predict(X_test)\n",
        "train_predict=scaler.inverse_transform(train_predict)\n",
        "test_predict=scaler.inverse_transform(test_predict)"
      ],
      "metadata": {
        "colab": {
          "base_uri": "https://localhost:8080/"
        },
        "id": "P0Fe6358zcKn",
        "outputId": "ae0f2567-8512-496a-cc3e-9e56549fca9b"
      },
      "execution_count": 31,
      "outputs": [
        {
          "output_type": "stream",
          "name": "stdout",
          "text": [
            "23/23 [==============================] - 2s 9ms/step\n",
            "11/11 [==============================] - 0s 8ms/step\n"
          ]
        }
      ]
    },
    {
      "cell_type": "markdown",
      "source": [
        "Model Evaluation"
      ],
      "metadata": {
        "id": "I1SSJMTr6k7Z"
      }
    },
    {
      "cell_type": "code",
      "source": [
        "print(f\"MSE for train data : {math.sqrt(mean_squared_error(y_train,train_predict))}\")\n",
        "print(f\"MSE for test data : {math.sqrt(mean_squared_error(y_test,test_predict))}\")"
      ],
      "metadata": {
        "colab": {
          "base_uri": "https://localhost:8080/"
        },
        "id": "ronF28TG1CQ6",
        "outputId": "890d5b77-a644-4ee4-bf60-95c9354ffdf0"
      },
      "execution_count": 33,
      "outputs": [
        {
          "output_type": "stream",
          "name": "stdout",
          "text": [
            "MSE for train data : 0.011229352685999196\n",
            "MSE for test data : 0.03159983487734754\n"
          ]
        }
      ]
    },
    {
      "cell_type": "code",
      "source": [
        "### Plotting\n",
        "# shift train predictions for plotting\n",
        "look_back=100\n",
        "trainPredictPlot = np.empty_like(df1)\n",
        "trainPredictPlot[:, :] = np.nan\n",
        "trainPredictPlot[look_back:len(train_predict)+look_back, :] = train_predict\n",
        "# shift test predictions for plotting\n",
        "testPredictPlot = np.empty_like(df1)\n",
        "testPredictPlot[:, :] = np.nan\n",
        "testPredictPlot[len(train_predict)+(look_back*2)+1:len(df1)-1, :] = test_predict\n",
        "# plot baseline and predictions\n",
        "plt.plot(scaler.inverse_transform(df1))\n",
        "plt.plot(trainPredictPlot)\n",
        "plt.plot(testPredictPlot)\n",
        "plt.show()"
      ],
      "metadata": {
        "colab": {
          "base_uri": "https://localhost:8080/",
          "height": 430
        },
        "id": "91WVAxml1Vmc",
        "outputId": "c844138b-259f-4262-f96d-22f792acfbd6"
      },
      "execution_count": 35,
      "outputs": [
        {
          "output_type": "display_data",
          "data": {
            "text/plain": [
              "<Figure size 640x480 with 1 Axes>"
            ],
            "image/png": "[encoded data removed]"
          },
          "metadata": {}
        }
      ]
    },
    {
      "cell_type": "code",
      "source": [
        "x_input=test_data[341:].reshape(1,-1)\n",
        "print(x_input.shape)\n",
        "temp_input=list(x_input)\n",
        "temp_input=temp_input[0].tolist()\n",
        "print(len(temp_input))"
      ],
      "metadata": {
        "colab": {
          "base_uri": "https://localhost:8080/"
        },
        "id": "rjJj3cvk1xsC",
        "outputId": "11ae900a-df23-4dfa-b42b-d8224994bb5e"
      },
      "execution_count": 38,
      "outputs": [
        {
          "output_type": "stream",
          "name": "stdout",
          "text": [
            "(1, 100)\n",
            "100\n"
          ]
        }
      ]
    },
    {
      "cell_type": "markdown",
      "source": [
        "**Forecasting for next 30 days**"
      ],
      "metadata": {
        "id": "28CRTpwP6rVp"
      }
    },
    {
      "cell_type": "code",
      "source": [
        "lst_output=[]\n",
        "n_steps=100\n",
        "i=0\n",
        "while(i<30):\n",
        "\n",
        "    if(len(temp_input)>100):\n",
        "        #print(temp_input)\n",
        "        x_input=np.array(temp_input[1:])\n",
        "        print(\"{} day input {}\".format(i,x_input))\n",
        "        x_input=x_input.reshape(1,-1)\n",
        "        x_input = x_input.reshape((1, n_steps, 1))\n",
        "        #print(x_input)\n",
        "        yhat = model.predict(x_input, verbose=0)\n",
        "        print(\"{} day output {}\".format(i,yhat))\n",
        "        temp_input.extend(yhat[0].tolist())\n",
        "        temp_input=temp_input[1:]\n",
        "        #print(temp_input)\n",
        "        lst_output.extend(yhat.tolist())\n",
        "        i=i+1\n",
        "    else:\n",
        "        x_input = x_input.reshape((1, n_steps,1))\n",
        "        yhat = model.predict(x_input, verbose=0)\n",
        "        print(yhat[0])\n",
        "        temp_input.extend(yhat[0].tolist())\n",
        "        print(len(temp_input))\n",
        "        lst_output.extend(yhat.tolist())\n",
        "        i=i+1\n",
        ""
      ],
      "metadata": {
        "id": "Iqc-vO-t4IwU"
      },
      "execution_count": null,
      "outputs": []
    },
    {
      "cell_type": "code",
      "source": [
        "day_new=np.arange(1,101)\n",
        "day_pred=np.arange(101,131)\n",
        "plt.plot(day_new,scaler.inverse_transform(df1[1158:]))\n",
        "plt.plot(day_pred,scaler.inverse_transform(lst_output))\n",
        "plt.title(\"Forecasted stock prices of next 30 days \")"
      ],
      "metadata": {
        "colab": {
          "base_uri": "https://localhost:8080/",
          "height": 469
        },
        "id": "Y7vxxjEN4etj",
        "outputId": "ef539543-e4ea-477b-a92e-9987474956a8"
      },
      "execution_count": 41,
      "outputs": [
        {
          "output_type": "execute_result",
          "data": {
            "text/plain": [
              "Text(0.5, 1.0, 'Forecasted stock prices of next 30 days ')"
            ]
          },
          "metadata": {},
          "execution_count": 41
        },
        {
          "output_type": "display_data",
          "data": {
            "text/plain": [
              "<Figure size 640x480 with 1 Axes>"
            ],
            "image/png": "[encoded data removed]"
          },
          "metadata": {}
        }
      ]
    },
    {
      "cell_type": "code",
      "source": [],
      "metadata": {
        "id": "XN-b4K7r4xWY"
      },
      "execution_count": null,
      "outputs": []
    }
  ]
}